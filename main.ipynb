{
 "cells": [
  {
   "cell_type": "code",
   "execution_count": null,
   "metadata": {},
   "outputs": [],
   "source": [
    "from IPython.core.interactiveshell import InteractiveShell\n",
    "\n",
    "InteractiveShell.ast_node_interactivity = \"all\"\n",
    "from dotenv import load_dotenv\n",
    "from os import getenv\n",
    "load_dotenv()"
   ]
  },
  {
   "cell_type": "code",
   "execution_count": null,
   "metadata": {},
   "outputs": [],
   "source": [
    "# database connection info\n",
    "db_con_dict = dict(\n",
    "    USER=getenv(\"MYSQL_ROOT_USER\"),\n",
    "    PASSWORD=getenv(\"MYSQL_ROOT_PASSWORD\"),\n",
    "    HOST=getenv(\"HOST\"),\n",
    "    PORT=int(getenv(\"MYSQL_DOCKER_PORT\")),\n",
    "    DATABASE=getenv(\"MYSQL_DATABASE\")    \n",
    ")"
   ]
  }
 ],
 "metadata": {
  "language_info": {
   "name": "python"
  }
 },
 "nbformat": 4,
 "nbformat_minor": 2
}
