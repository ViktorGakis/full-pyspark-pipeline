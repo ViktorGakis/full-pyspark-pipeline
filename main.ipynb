{
 "cells": [
  {
   "cell_type": "markdown",
   "metadata": {},
   "source": [
    "## Imports\n"
   ]
  },
  {
   "cell_type": "code",
   "execution_count": 1,
   "metadata": {},
   "outputs": [
    {
     "data": {
      "text/plain": [
       "False"
      ]
     },
     "execution_count": 1,
     "metadata": {},
     "output_type": "execute_result"
    }
   ],
   "source": [
    "from IPython.core.interactiveshell import InteractiveShell\n",
    "\n",
    "InteractiveShell.ast_node_interactivity = \"all\"\n",
    "from dotenv import load_dotenv\n",
    "from os import getenv\n",
    "from pathlib import Path\n",
    "from tests import test_mysql_conx, test_pyspark_con\n",
    "\n",
    "import findspark\n",
    "\n",
    "findspark.init()\n",
    "\n",
    "load_dotenv()"
   ]
  },
  {
   "cell_type": "code",
   "execution_count": 2,
   "metadata": {},
   "outputs": [
    {
     "data": {
      "text/plain": [
       "True"
      ]
     },
     "execution_count": 2,
     "metadata": {},
     "output_type": "execute_result"
    }
   ],
   "source": [
    "# MYSQL_CONNECTOR_PATH = \"usr/share/java/mysql-connector-java-8.2.0.jar\"\n",
    "MYSQL_CONNECTOR_FILENAME = \"mysql-connector-j-8.2.0.jar\"\n",
    "MYSQL_CONNECTOR_PATH = f\"./app/mysql_connector/{MYSQL_CONNECTOR_FILENAME}\"\n",
    "Path(MYSQL_CONNECTOR_PATH).exists()"
   ]
  },
  {
   "cell_type": "markdown",
   "metadata": {},
   "source": [
    "Move the connector driver in the proper place in order to be recognizable by pyspark\n"
   ]
  },
  {
   "cell_type": "code",
   "execution_count": 3,
   "metadata": {},
   "outputs": [],
   "source": [
    "findspark.add_jars(MYSQL_CONNECTOR_PATH)"
   ]
  },
  {
   "cell_type": "code",
   "execution_count": 4,
   "metadata": {},
   "outputs": [],
   "source": [
    "CWD: Path = Path(\"./app/\")\n",
    "EXAMPLE_INPUT_PATH: Path = CWD / Path(\"./coding_challenge_files/example_input.txt\")\n",
    "TABLE_NAME = \"instruments\""
   ]
  },
  {
   "cell_type": "markdown",
   "metadata": {},
   "source": [
    "Defining mysql credentials\n"
   ]
  },
  {
   "cell_type": "code",
   "execution_count": 5,
   "metadata": {},
   "outputs": [
    {
     "data": {
      "text/plain": [
       "{'driver': 'com.mysql.cj.jdbc.Driver',\n",
       " 'url': 'jdbc:mysql://db:3306/mydb',\n",
       " 'user': 'root',\n",
       " 'password': 'example'}"
      ]
     },
     "execution_count": 5,
     "metadata": {},
     "output_type": "execute_result"
    }
   ],
   "source": [
    "# database connection info\n",
    "DB_CON_DICT = dict(\n",
    "    user=getenv(\"MYSQL_ROOT_USER\"),\n",
    "    password=getenv(\"MYSQL_ROOT_PASSWORD\"),\n",
    "    host=getenv(\"HOST\"),\n",
    "    port=int(getenv(\"MYSQL_DOCKER_PORT\")),\n",
    "    database=getenv(\"MYSQL_DATABASE\"),\n",
    ")\n",
    "\n",
    "# Configure MySQL connection properties\n",
    "MYSQL_PROPERTIES = {\n",
    "    \"driver\": \"com.mysql.cj.jdbc.Driver\",\n",
    "    \"url\": \"jdbc:mysql://{host}:{port}/{database}\".format(**DB_CON_DICT),\n",
    "    \"user\": DB_CON_DICT[\"user\"],\n",
    "    \"password\": DB_CON_DICT[\"password\"],\n",
    "}\n",
    "MYSQL_PROPERTIES"
   ]
  },
  {
   "cell_type": "markdown",
   "metadata": {},
   "source": [
    "## Testing Database connection\n"
   ]
  },
  {
   "cell_type": "markdown",
   "metadata": {},
   "source": [
    "First we test the connection to our mysql database\n"
   ]
  },
  {
   "cell_type": "code",
   "execution_count": 17,
   "metadata": {},
   "outputs": [
    {
     "name": "stdout",
     "output_type": "stream",
     "text": [
      "Connection Success\n"
     ]
    }
   ],
   "source": [
    "# test database connection\n",
    "test_mysql_conx(**DB_CON_DICT)"
   ]
  },
  {
   "cell_type": "markdown",
   "metadata": {},
   "source": [
    "## Testing Pyspark installation\n"
   ]
  },
  {
   "cell_type": "markdown",
   "metadata": {},
   "source": [
    "Then we test if pyspark is properly installed\n"
   ]
  },
  {
   "cell_type": "code",
   "execution_count": 6,
   "metadata": {},
   "outputs": [
    {
     "name": "stderr",
     "output_type": "stream",
     "text": [
      "24/01/10 16:40:30 WARN NativeCodeLoader: Unable to load native-hadoop library for your platform... using builtin-java classes where applicable\n",
      "Setting default log level to \"WARN\".\n",
      "To adjust logging level use sc.setLogLevel(newLevel). For SparkR, use setLogLevel(newLevel).\n",
      "                                                                                \r"
     ]
    },
    {
     "name": "stdout",
     "output_type": "stream",
     "text": [
      "+-----+\n",
      "|value|\n",
      "+-----+\n",
      "|Hello|\n",
      "|World|\n",
      "+-----+\n",
      "\n"
     ]
    }
   ],
   "source": [
    "test_pyspark_con()"
   ]
  },
  {
   "cell_type": "markdown",
   "metadata": {},
   "source": [
    "## TASK PART ONE\n"
   ]
  },
  {
   "cell_type": "markdown",
   "metadata": {},
   "source": [
    "Read time series from the file provided and pass all of them to the \"calculation module\".\n",
    "\n",
    "Calculation engine needs to calculate:\n",
    "\n",
    "1. For INSTRUMENT1 – mean\n",
    "\n",
    "1. For INSTRUMENT2 – mean for November 2014\n",
    "\n",
    "1. For INSTRUMENT3 – any other statistical calculation that we can compute \"on-the-fly\" as we read the file (it's up to you)\n",
    "\n",
    "1. For any other instrument from the input file - sum of the newest 10 elements (in terms of the date).\n"
   ]
  },
  {
   "cell_type": "markdown",
   "metadata": {},
   "source": [
    "### `Read time series from the file provided and pass all of them to the \"calculation module\".`\n"
   ]
  },
  {
   "cell_type": "markdown",
   "metadata": {},
   "source": [
    "First we read and transform the data to a pyspark dataframe\n"
   ]
  },
  {
   "cell_type": "code",
   "execution_count": 7,
   "metadata": {},
   "outputs": [
    {
     "name": "stdout",
     "output_type": "stream",
     "text": [
      "root\n",
      " |-- INSTRUMENT_NAME: string (nullable = true)\n",
      " |-- DATE: string (nullable = true)\n",
      " |-- VALUE: double (nullable = true)\n",
      "\n",
      "+---------------+-----------+------+\n",
      "|INSTRUMENT_NAME|       DATE| VALUE|\n",
      "+---------------+-----------+------+\n",
      "|    INSTRUMENT1|01-Jan-1996|2.4655|\n",
      "|    INSTRUMENT1|02-Jan-1996|2.4685|\n",
      "|    INSTRUMENT1|03-Jan-1996| 2.473|\n",
      "|    INSTRUMENT1|04-Jan-1996|2.4845|\n",
      "|    INSTRUMENT1|05-Jan-1996|2.4868|\n",
      "+---------------+-----------+------+\n",
      "only showing top 5 rows\n",
      "\n"
     ]
    }
   ],
   "source": [
    "from pyspark.sql import SparkSession\n",
    "from pyspark.sql.types import StructType, StructField, StringType, DoubleType\n",
    "\n",
    "# Create a Spark session\n",
    "spark = (\n",
    "    SparkSession.builder.appName(\"Calc_Engine\")\n",
    "    .config(\"spark.jars\", MYSQL_CONNECTOR_PATH)\n",
    "    .getOrCreate()\n",
    ")\n",
    "\n",
    "# Specify the path to the .txt file\n",
    "txt_file_path: str = f\"{EXAMPLE_INPUT_PATH}\"\n",
    "\n",
    "# Define the schema with StringType for DATE initially\n",
    "schema = StructType(\n",
    "    [\n",
    "        StructField(name=\"INSTRUMENT_NAME\", dataType=StringType(), nullable=True),\n",
    "        StructField(name=\"DATE\", dataType=StringType(), nullable=True),\n",
    "        StructField(name=\"VALUE\", dataType=DoubleType(), nullable=True),\n",
    "    ]\n",
    ")\n",
    "\n",
    "# Read the .txt file into a PySpark DataFrame\n",
    "extr = spark.read.option(\"delimiter\", \",\").csv(\n",
    "    txt_file_path, header=False, schema=schema\n",
    ")\n",
    "\n",
    "# transform to dataframe\n",
    "df = extr.toDF(\"INSTRUMENT_NAME\", \"DATE\", \"VALUE\")\n",
    "\n",
    "df.printSchema()\n",
    "\n",
    "df.show(5)"
   ]
  },
  {
   "cell_type": "markdown",
   "metadata": {},
   "source": [
    "Then we properly handle the date column as a date datatype\n"
   ]
  },
  {
   "cell_type": "code",
   "execution_count": 8,
   "metadata": {},
   "outputs": [
    {
     "name": "stdout",
     "output_type": "stream",
     "text": [
      "root\n",
      " |-- INSTRUMENT_NAME: string (nullable = true)\n",
      " |-- DATE: date (nullable = true)\n",
      " |-- VALUE: double (nullable = true)\n",
      "\n",
      "+---------------+----------+------+\n",
      "|INSTRUMENT_NAME|      DATE| VALUE|\n",
      "+---------------+----------+------+\n",
      "|    INSTRUMENT1|1996-01-01|2.4655|\n",
      "|    INSTRUMENT1|1996-01-02|2.4685|\n",
      "|    INSTRUMENT1|1996-01-03| 2.473|\n",
      "|    INSTRUMENT1|1996-01-04|2.4845|\n",
      "|    INSTRUMENT1|1996-01-05|2.4868|\n",
      "+---------------+----------+------+\n",
      "only showing top 5 rows\n",
      "\n"
     ]
    }
   ],
   "source": [
    "# Convert the DATE column to a DateType using to_date function and an appropriate date format\n",
    "from pyspark.sql.functions import to_date\n",
    "\n",
    "date_format_str = \"dd-MMM-yyyy\"\n",
    "\n",
    "# Convert the string to a DateType using to_date function\n",
    "col_date_str = \"DATE\"\n",
    "col_transformed_to_date = \"DATE\"  # \"transformed_date\"\n",
    "col_formatted_Date = \"DATE\"  # \"formatted_date\"\n",
    "\n",
    "df = df.withColumn(col_transformed_to_date, to_date(df[col_date_str], date_format_str))\n",
    "\n",
    "df.printSchema()\n",
    "\n",
    "df.show(5)"
   ]
  },
  {
   "cell_type": "markdown",
   "metadata": {},
   "source": [
    "We sort the Data by Date\n"
   ]
  },
  {
   "cell_type": "code",
   "execution_count": 9,
   "metadata": {},
   "outputs": [
    {
     "name": "stdout",
     "output_type": "stream",
     "text": [
      "+---------------+----------+-----------+\n",
      "|INSTRUMENT_NAME|      DATE|      VALUE|\n",
      "+---------------+----------+-----------+\n",
      "|    INSTRUMENT1|2014-12-19|   3.475244|\n",
      "|    INSTRUMENT2|2014-12-19|9.226391955|\n",
      "|    INSTRUMENT3|2014-12-19|     119.37|\n",
      "|    INSTRUMENT1|2014-12-18|   3.460937|\n",
      "|    INSTRUMENT2|2014-12-18|9.223690651|\n",
      "|    INSTRUMENT3|2014-12-18|    119.275|\n",
      "|    INSTRUMENT1|2014-12-17|   3.404217|\n",
      "|    INSTRUMENT2|2014-12-17|9.222419168|\n",
      "|    INSTRUMENT3|2014-12-17|   117.2525|\n",
      "|    INSTRUMENT1|2014-12-16|   3.371051|\n",
      "+---------------+----------+-----------+\n",
      "only showing top 10 rows\n",
      "\n"
     ]
    }
   ],
   "source": [
    "from pyspark.sql.functions import col\n",
    "\n",
    "df = df.orderBy(col(\"DATE\").desc())\n",
    "\n",
    "df.show(10)"
   ]
  },
  {
   "cell_type": "markdown",
   "metadata": {},
   "source": [
    "#### `Validate the date - it should be a business date, i.e. Monday – Friday. Discard entries with non-business date.`\n",
    "\n",
    "In order to achieve this we will use the DAYOFWEEK or dayofweek which transforms the date into a integer according to the day. I.e Mon-Sun -> 1-7. Then we will filter out only the 1-5 integers which are the bussiness days\n"
   ]
  },
  {
   "cell_type": "code",
   "execution_count": 10,
   "metadata": {},
   "outputs": [
    {
     "name": "stdout",
     "output_type": "stream",
     "text": [
      "+---------------+----------+-----------+-----------+\n",
      "|INSTRUMENT_NAME|      DATE|      VALUE|DAY_OF_WEEK|\n",
      "+---------------+----------+-----------+-----------+\n",
      "|    INSTRUMENT1|2014-12-19|   3.475244|          6|\n",
      "|    INSTRUMENT2|2014-12-19|9.226391955|          6|\n",
      "|    INSTRUMENT3|2014-12-19|     119.37|          6|\n",
      "|    INSTRUMENT1|2014-12-18|   3.460937|          5|\n",
      "|    INSTRUMENT2|2014-12-18|9.223690651|          5|\n",
      "+---------------+----------+-----------+-----------+\n",
      "only showing top 5 rows\n",
      "\n"
     ]
    }
   ],
   "source": [
    "from pyspark.sql.functions import dayofweek\n",
    "\n",
    "df.withColumn(\"DAY_OF_WEEK\", dayofweek(\"DATE\")).show(5)"
   ]
  },
  {
   "attachments": {
    "image.png": {
     "image/png": "[encoded data removed]"
    }
   },
   "cell_type": "markdown",
   "metadata": {},
   "source": [
    "From the [docs](https://dev.mysql.com/doc/refman/7.0/en/date-and-time-functions.html#function_dayofweek) the business days correspond to the integers 2-6 as Monday-Friday\n",
    "\n",
    "![image.png](attachment:image.png)\n"
   ]
  },
  {
   "cell_type": "code",
   "execution_count": 11,
   "metadata": {},
   "outputs": [
    {
     "name": "stdout",
     "output_type": "stream",
     "text": [
      "+---------------+----------+-----------+-----------+\n",
      "|INSTRUMENT_NAME|      DATE|      VALUE|DAY_OF_WEEK|\n",
      "+---------------+----------+-----------+-----------+\n",
      "|    INSTRUMENT1|2014-12-19|   3.475244|          6|\n",
      "|    INSTRUMENT2|2014-12-19|9.226391955|          6|\n",
      "|    INSTRUMENT3|2014-12-19|     119.37|          6|\n",
      "|    INSTRUMENT1|2014-12-18|   3.460937|          5|\n",
      "|    INSTRUMENT2|2014-12-18|9.223690651|          5|\n",
      "+---------------+----------+-----------+-----------+\n",
      "only showing top 5 rows\n",
      "\n"
     ]
    }
   ],
   "source": [
    "df_with_dayofweek = df.withColumn(\"DAY_OF_WEEK\", dayofweek(\"DATE\"))\n",
    "\n",
    "# Filter and keep only rows where DAY_OF_WEEK is in [2,6] (Monday=2 to Friday=6)\n",
    "df_filtered = df_with_dayofweek.filter(\n",
    "    (df_with_dayofweek[\"DAY_OF_WEEK\"] >= 2) & (df_with_dayofweek[\"DAY_OF_WEEK\"] <= 6)\n",
    ")\n",
    "\n",
    "df_filtered.show(5)"
   ]
  },
  {
   "cell_type": "markdown",
   "metadata": {},
   "source": [
    "Check that the df_filtered contains indeed only bussiness days\n"
   ]
  },
  {
   "cell_type": "code",
   "execution_count": 12,
   "metadata": {},
   "outputs": [
    {
     "name": "stdout",
     "output_type": "stream",
     "text": [
      "df_filtered contains indeed only bussiness days\n"
     ]
    }
   ],
   "source": [
    "from pyspark.sql.functions import max, min\n",
    "\n",
    "max_value = df_filtered.agg(max(\"DAY_OF_WEEK\").alias(\"MAX\")).collect()[0][\"MAX\"]\n",
    "min_value = df_filtered.agg(min(\"DAY_OF_WEEK\").alias(\"MIN\")).collect()[0][\"MIN\"]\n",
    "\n",
    "if (min_value, max_value) == (2, 6):\n",
    "    print(\"df_filtered contains indeed only bussiness days\")"
   ]
  },
  {
   "cell_type": "markdown",
   "metadata": {},
   "source": [
    "The .txt file already contains only business days by the way as can be seen from\n"
   ]
  },
  {
   "cell_type": "code",
   "execution_count": 13,
   "metadata": {},
   "outputs": [
    {
     "name": "stdout",
     "output_type": "stream",
     "text": [
      "df_filtered contains indeed only bussiness days\n"
     ]
    }
   ],
   "source": [
    "max_value = df_with_dayofweek.agg(max(\"DAY_OF_WEEK\").alias(\"MAX\")).collect()[0][\"MAX\"]\n",
    "min_value = df_with_dayofweek.agg(min(\"DAY_OF_WEEK\").alias(\"MIN\")).collect()[0][\"MIN\"]\n",
    "\n",
    "if (min_value, max_value) == (2, 6) or df_with_dayofweek.count() == df_filtered.count():\n",
    "    print(\"df_filtered contains indeed only bussiness days\")"
   ]
  },
  {
   "cell_type": "markdown",
   "metadata": {},
   "source": [
    "#### `Current date is 19-Dec-2014 and we cannot have dates past that`\n"
   ]
  },
  {
   "cell_type": "code",
   "execution_count": null,
   "metadata": {},
   "outputs": [
    {
     "name": "stdout",
     "output_type": "stream",
     "text": [
      "Indeed our dataframe contains dates up to 19-Dec-2014\n"
     ]
    }
   ],
   "source": [
    "from datetime import date as dt_date\n",
    "\n",
    "latest_date = df_filtered.agg(max(\"DATE\").alias(\"MAX\")).collect()[0][\"MAX\"]\n",
    "if latest_date == dt_date(2014, 12, 19):\n",
    "    print(\"Indeed our dataframe contains dates up to 19-Dec-2014\")"
   ]
  },
  {
   "cell_type": "markdown",
   "metadata": {},
   "source": [
    "### `For INSTRUMENT1 – mean`\n"
   ]
  },
  {
   "cell_type": "code",
   "execution_count": 82,
   "metadata": {},
   "outputs": [
    {
     "name": "stdout",
     "output_type": "stream",
     "text": [
      "+---------------+-----------------+\n",
      "|INSTRUMENT_NAME|             MEAN|\n",
      "+---------------+-----------------+\n",
      "|    INSTRUMENT1|3.367591731889919|\n",
      "+---------------+-----------------+\n",
      "\n"
     ]
    }
   ],
   "source": [
    "mean_value_INST1 = (\n",
    "    df_filtered.groupBy(\"INSTRUMENT_NAME\")\n",
    "    .agg(mean(\"VALUE\").alias(\"MEAN\"))\n",
    "    .filter(col(\"INSTRUMENT_NAME\") == \"INSTRUMENT1\")\n",
    ")\n",
    "\n",
    "mean_value_INST1.show()"
   ]
  },
  {
   "cell_type": "markdown",
   "metadata": {},
   "source": [
    "### `For INSTRUMENT2 – mean for November 2014`\n"
   ]
  },
  {
   "cell_type": "markdown",
   "metadata": {},
   "source": [
    "We first group by Year, Month and then we calculate the mean\n"
   ]
  },
  {
   "cell_type": "code",
   "execution_count": 17,
   "metadata": {},
   "outputs": [
    {
     "name": "stdout",
     "output_type": "stream",
     "text": [
      "+---------------+----+-----+------------------+\n",
      "|INSTRUMENT_NAME|YEAR|MONTH|        avg(VALUE)|\n",
      "+---------------+----+-----+------------------+\n",
      "|    INSTRUMENT2|2008|    1| 9.233828654869566|\n",
      "|    INSTRUMENT2|2004|   12| 9.304511043695655|\n",
      "|    INSTRUMENT3|2002|    7| 119.5754347826087|\n",
      "|    INSTRUMENT1|2012|    1|3.3943136363636373|\n",
      "|    INSTRUMENT3|2010|    4| 93.57292772727273|\n",
      "+---------------+----+-----+------------------+\n",
      "only showing top 5 rows\n",
      "\n"
     ]
    }
   ],
   "source": [
    "from pyspark.sql.functions import month, year, day\n",
    "\n",
    "df_grouped_year_month = df_filtered.groupBy(\n",
    "    \"INSTRUMENT_NAME\", year(\"DATE\").alias(\"YEAR\"), month(\"DATE\").alias(\"MONTH\")\n",
    ").agg({\"VALUE\": \"mean\"})\n",
    "\n",
    "# Show the result\n",
    "df_grouped_year_month.show(5)"
   ]
  },
  {
   "cell_type": "markdown",
   "metadata": {},
   "source": [
    "Then we extract the needed mean for November 2014\n"
   ]
  },
  {
   "cell_type": "code",
   "execution_count": 94,
   "metadata": {},
   "outputs": [
    {
     "name": "stdout",
     "output_type": "stream",
     "text": [
      "+---------------+----+-----+-------------+\n",
      "|INSTRUMENT_NAME|YEAR|MONTH|   avg(VALUE)|\n",
      "+---------------+----+-----+-------------+\n",
      "|    INSTRUMENT2|2014|   11|9.25755836695|\n",
      "+---------------+----+-----+-------------+\n",
      "\n"
     ]
    }
   ],
   "source": [
    "# Specify the year, month, and instrument to filter\n",
    "target_year = 2014\n",
    "target_month = 11\n",
    "target_instrument = \"INSTRUMENT2\"\n",
    "\n",
    "# Filter the DataFrame\n",
    "mean_value_INST2_2014_11 = df_grouped_year_month.filter(\n",
    "    (col(\"YEAR\") == target_year)\n",
    "    & (col(\"MONTH\") == target_month)\n",
    "    & (col(\"INSTRUMENT_NAME\") == target_instrument)\n",
    ")\n",
    "\n",
    "mean_value_INST2_2014_11.show()"
   ]
  },
  {
   "cell_type": "markdown",
   "metadata": {},
   "source": [
    "### `For INSTRUMENT3 – any other statistical calculation that we can compute \"on-the-fly\" as we read the file (it's up to you)`\n"
   ]
  },
  {
   "cell_type": "markdown",
   "metadata": {},
   "source": [
    "Just like in pandas the on-the-fly statistical calculations are generated by .desc() method or .describe() in pyspark\n"
   ]
  },
  {
   "cell_type": "code",
   "execution_count": 109,
   "metadata": {},
   "outputs": [
    {
     "name": "stdout",
     "output_type": "stream",
     "text": [
      "+-------+------------------+\n",
      "|summary|             VALUE|\n",
      "+-------+------------------+\n",
      "|  count|              4942|\n",
      "|   mean|109.31133151073693|\n",
      "| stddev|15.220281324517314|\n",
      "|    min|           75.7195|\n",
      "|    max|            149.98|\n",
      "+-------+------------------+\n",
      "\n"
     ]
    }
   ],
   "source": [
    "# Filter only the rows where 'INSTRUMENT_NAME' is 'INSTRUMENT3'\n",
    "instrument3_df = df_filtered.filter(col(\"INSTRUMENT_NAME\") == \"INSTRUMENT3\")\n",
    "\n",
    "# Apply describe()\n",
    "instrument3_stats = instrument3_df.describe()\n",
    "\n",
    "# keep only meaningful columns\n",
    "instrument3_stats.select(\"summary\", \"VALUE\").show()"
   ]
  },
  {
   "cell_type": "markdown",
   "metadata": {},
   "source": [
    "### `For any other instrument from the input file - sum of the newest 10 elements (in terms of the date).`\n"
   ]
  },
  {
   "cell_type": "markdown",
   "metadata": {},
   "source": [
    "Let us first find how many distinct instruments are there in our dataset\n"
   ]
  },
  {
   "cell_type": "code",
   "execution_count": 113,
   "metadata": {},
   "outputs": [
    {
     "name": "stdout",
     "output_type": "stream",
     "text": [
      "+---------------+\n",
      "|INSTRUMENT_NAME|\n",
      "+---------------+\n",
      "|    INSTRUMENT2|\n",
      "|    INSTRUMENT1|\n",
      "|    INSTRUMENT3|\n",
      "+---------------+\n",
      "\n"
     ]
    }
   ],
   "source": [
    "df_filtered.select(\"INSTRUMENT_NAME\").distinct().show()"
   ]
  },
  {
   "cell_type": "markdown",
   "metadata": {},
   "source": [
    "We will first drop the DAY_OF_WEEK column then add YEAR, MONTH and DAY columns"
   ]
  },
  {
   "cell_type": "code",
   "execution_count": 18,
   "metadata": {},
   "outputs": [
    {
     "name": "stdout",
     "output_type": "stream",
     "text": [
      "+---------------+----------+--------+----+-----+---+\n",
      "|INSTRUMENT_NAME|      DATE|   VALUE|YEAR|MONTH|DAY|\n",
      "+---------------+----------+--------+----+-----+---+\n",
      "|    INSTRUMENT1|2014-12-19|3.475244|2014|   12| 19|\n",
      "|    INSTRUMENT1|2014-12-18|3.460937|2014|   12| 18|\n",
      "|    INSTRUMENT1|2014-12-17|3.404217|2014|   12| 17|\n",
      "|    INSTRUMENT1|2014-12-16|3.371051|2014|   12| 16|\n",
      "|    INSTRUMENT1|2014-12-15|3.361023|2014|   12| 15|\n",
      "+---------------+----------+--------+----+-----+---+\n",
      "only showing top 5 rows\n",
      "\n"
     ]
    }
   ],
   "source": [
    "df_ordered_grouped = df_filtered.drop('DAY_OF_WEEK')\\\n",
    "    .withColumn(\"YEAR\", year(\"DATE\"))\\\n",
    "    .withColumn(\"MONTH\", month(\"DATE\"))\\\n",
    "    .withColumn(\"DAY\", day(\"DATE\"))\\\n",
    "    .orderBy(\n",
    "        col(\"INSTRUMENT_NAME\"),\n",
    "        col(\"YEAR\").desc(),\n",
    "        col(\"MONTH\").desc(),\n",
    "        col(\"DAY\").desc(),\n",
    "    )\n",
    "    \n",
    "df_ordered_grouped.show(5)"
   ]
  },
  {
   "cell_type": "code",
   "execution_count": 31,
   "metadata": {},
   "outputs": [],
   "source": [
    "from pyspark.sql.window import Window\n",
    "from pyspark.sql.functions import row_number, sum\n",
    "\n",
    "# Define a window specification partitioned by 'INSTRUMENT_NAME' and ordered by date columns\n",
    "# just like df_ordered_grouped\n",
    "window_spec = Window.partitionBy(\"INSTRUMENT_NAME\").orderBy(\n",
    "    col(\"YEAR\").desc(),\n",
    "    col(\"MONTH\").desc(),\n",
    "    col(\"DAY\").desc(),\n",
    ")\n",
    "\n",
    "# Add a row number column to the DataFrame based on the window specification\n",
    "df_with_row_number = df_ordered_grouped.withColumn(\"row_num\", row_number().over(window_spec))"
   ]
  },
  {
   "cell_type": "markdown",
   "metadata": {},
   "source": [
    "Let us first inspect what this looks like and if it is correct"
   ]
  },
  {
   "cell_type": "code",
   "execution_count": 28,
   "metadata": {},
   "outputs": [
    {
     "name": "stdout",
     "output_type": "stream",
     "text": [
      "+---------------+----------+--------+----+-----+---+-------+\n",
      "|INSTRUMENT_NAME|      DATE|   VALUE|YEAR|MONTH|DAY|row_num|\n",
      "+---------------+----------+--------+----+-----+---+-------+\n",
      "|    INSTRUMENT1|2014-12-19|3.475244|2014|   12| 19|      1|\n",
      "|    INSTRUMENT1|2014-12-18|3.460937|2014|   12| 18|      2|\n",
      "|    INSTRUMENT1|2014-12-17|3.404217|2014|   12| 17|      3|\n",
      "|    INSTRUMENT1|2014-12-16|3.371051|2014|   12| 16|      4|\n",
      "|    INSTRUMENT1|2014-12-15|3.361023|2014|   12| 15|      5|\n",
      "|    INSTRUMENT1|2014-12-12|3.356631|2014|   12| 12|      6|\n",
      "|    INSTRUMENT1|2014-12-11|3.370752|2014|   12| 11|      7|\n",
      "|    INSTRUMENT1|2014-12-10|3.353995|2014|   12| 10|      8|\n",
      "|    INSTRUMENT1|2014-12-09|3.346407|2014|   12|  9|      9|\n",
      "|    INSTRUMENT1|2014-12-08|3.387239|2014|   12|  8|     10|\n",
      "|    INSTRUMENT1|2014-12-05|3.388378|2014|   12|  5|     11|\n",
      "+---------------+----------+--------+----+-----+---+-------+\n",
      "only showing top 11 rows\n",
      "\n"
     ]
    }
   ],
   "source": [
    "df_with_row_number.filter(col('INSTRUMENT_NAME')=='INSTRUMENT1').show(11)"
   ]
  },
  {
   "cell_type": "code",
   "execution_count": 29,
   "metadata": {},
   "outputs": [
    {
     "name": "stdout",
     "output_type": "stream",
     "text": [
      "+---------------+----------+-----------+----+-----+---+-------+\n",
      "|INSTRUMENT_NAME|      DATE|      VALUE|YEAR|MONTH|DAY|row_num|\n",
      "+---------------+----------+-----------+----+-----+---+-------+\n",
      "|    INSTRUMENT2|2014-12-19|9.226391955|2014|   12| 19|      1|\n",
      "|    INSTRUMENT2|2014-12-18|9.223690651|2014|   12| 18|      2|\n",
      "|    INSTRUMENT2|2014-12-17|9.222419168|2014|   12| 17|      3|\n",
      "|    INSTRUMENT2|2014-12-16|9.216989169|2014|   12| 16|      4|\n",
      "|    INSTRUMENT2|2014-12-15|9.216693028|2014|   12| 15|      5|\n",
      "|    INSTRUMENT2|2014-12-12|9.214624074|2014|   12| 12|      6|\n",
      "|    INSTRUMENT2|2014-12-11|9.208970562|2014|   12| 11|      7|\n",
      "|    INSTRUMENT2|2014-12-10| 9.20228434|2014|   12| 10|      8|\n",
      "|    INSTRUMENT2|2014-12-09|9.299184555|2014|   12|  9|      9|\n",
      "|    INSTRUMENT2|2014-12-08|9.203948953|2014|   12|  8|     10|\n",
      "|    INSTRUMENT2|2014-12-05|9.299832024|2014|   12|  5|     11|\n",
      "+---------------+----------+-----------+----+-----+---+-------+\n",
      "only showing top 11 rows\n",
      "\n"
     ]
    }
   ],
   "source": [
    "df_with_row_number.filter(col('INSTRUMENT_NAME')=='INSTRUMENT2').show(11)"
   ]
  },
  {
   "cell_type": "code",
   "execution_count": 30,
   "metadata": {},
   "outputs": [
    {
     "name": "stdout",
     "output_type": "stream",
     "text": [
      "+---------------+----------+--------+----+-----+---+-------+\n",
      "|INSTRUMENT_NAME|      DATE|   VALUE|YEAR|MONTH|DAY|row_num|\n",
      "+---------------+----------+--------+----+-----+---+-------+\n",
      "|    INSTRUMENT3|2014-12-19|  119.37|2014|   12| 19|      1|\n",
      "|    INSTRUMENT3|2014-12-18| 119.275|2014|   12| 18|      2|\n",
      "|    INSTRUMENT3|2014-12-17|117.2525|2014|   12| 17|      3|\n",
      "|    INSTRUMENT3|2014-12-16| 116.785|2014|   12| 16|      4|\n",
      "|    INSTRUMENT3|2014-12-15| 118.275|2014|   12| 15|      5|\n",
      "|    INSTRUMENT3|2014-12-12|118.8075|2014|   12| 12|      6|\n",
      "|    INSTRUMENT3|2014-12-11| 119.225|2014|   12| 11|      7|\n",
      "|    INSTRUMENT3|2014-12-10|118.5975|2014|   12| 10|      8|\n",
      "|    INSTRUMENT3|2014-12-09|118.3175|2014|   12|  9|      9|\n",
      "|    INSTRUMENT3|2014-12-08|129.8475|2014|   12|  8|     10|\n",
      "|    INSTRUMENT3|2014-12-05|129.6075|2014|   12|  5|     11|\n",
      "+---------------+----------+--------+----+-----+---+-------+\n",
      "only showing top 11 rows\n",
      "\n"
     ]
    }
   ],
   "source": [
    "df_with_row_number.filter(col('INSTRUMENT_NAME')=='INSTRUMENT3').show(11)"
   ]
  },
  {
   "cell_type": "markdown",
   "metadata": {},
   "source": [
    "Hence we can see that the row numbers have been properly added denoting the last 10 entries for each instrument according to the dates."
   ]
  },
  {
   "cell_type": "markdown",
   "metadata": {},
   "source": [
    "Next we filter only the row numbers up to 10"
   ]
  },
  {
   "cell_type": "code",
   "execution_count": 32,
   "metadata": {},
   "outputs": [],
   "source": [
    "# Filter rows where row number is less than or equal to 10\n",
    "df_last_10 = df_with_row_number.filter(col(\"row_num\") <= 10)"
   ]
  },
  {
   "cell_type": "markdown",
   "metadata": {},
   "source": [
    "Let us check the dataframe"
   ]
  },
  {
   "cell_type": "code",
   "execution_count": 36,
   "metadata": {},
   "outputs": [
    {
     "name": "stdout",
     "output_type": "stream",
     "text": [
      "+---------------+----------+-----------+----+-----+---+-------+\n",
      "|INSTRUMENT_NAME|      DATE|      VALUE|YEAR|MONTH|DAY|row_num|\n",
      "+---------------+----------+-----------+----+-----+---+-------+\n",
      "|    INSTRUMENT1|2014-12-19|   3.475244|2014|   12| 19|      1|\n",
      "|    INSTRUMENT1|2014-12-18|   3.460937|2014|   12| 18|      2|\n",
      "|    INSTRUMENT1|2014-12-17|   3.404217|2014|   12| 17|      3|\n",
      "|    INSTRUMENT1|2014-12-16|   3.371051|2014|   12| 16|      4|\n",
      "|    INSTRUMENT1|2014-12-15|   3.361023|2014|   12| 15|      5|\n",
      "|    INSTRUMENT1|2014-12-12|   3.356631|2014|   12| 12|      6|\n",
      "|    INSTRUMENT1|2014-12-11|   3.370752|2014|   12| 11|      7|\n",
      "|    INSTRUMENT1|2014-12-10|   3.353995|2014|   12| 10|      8|\n",
      "|    INSTRUMENT1|2014-12-09|   3.346407|2014|   12|  9|      9|\n",
      "|    INSTRUMENT1|2014-12-08|   3.387239|2014|   12|  8|     10|\n",
      "|    INSTRUMENT2|2014-12-19|9.226391955|2014|   12| 19|      1|\n",
      "|    INSTRUMENT2|2014-12-18|9.223690651|2014|   12| 18|      2|\n",
      "|    INSTRUMENT2|2014-12-17|9.222419168|2014|   12| 17|      3|\n",
      "|    INSTRUMENT2|2014-12-16|9.216989169|2014|   12| 16|      4|\n",
      "|    INSTRUMENT2|2014-12-15|9.216693028|2014|   12| 15|      5|\n",
      "|    INSTRUMENT2|2014-12-12|9.214624074|2014|   12| 12|      6|\n",
      "|    INSTRUMENT2|2014-12-11|9.208970562|2014|   12| 11|      7|\n",
      "|    INSTRUMENT2|2014-12-10| 9.20228434|2014|   12| 10|      8|\n",
      "|    INSTRUMENT2|2014-12-09|9.299184555|2014|   12|  9|      9|\n",
      "|    INSTRUMENT2|2014-12-08|9.203948953|2014|   12|  8|     10|\n",
      "|    INSTRUMENT3|2014-12-19|     119.37|2014|   12| 19|      1|\n",
      "|    INSTRUMENT3|2014-12-18|    119.275|2014|   12| 18|      2|\n",
      "|    INSTRUMENT3|2014-12-17|   117.2525|2014|   12| 17|      3|\n",
      "|    INSTRUMENT3|2014-12-16|    116.785|2014|   12| 16|      4|\n",
      "|    INSTRUMENT3|2014-12-15|    118.275|2014|   12| 15|      5|\n",
      "|    INSTRUMENT3|2014-12-12|   118.8075|2014|   12| 12|      6|\n",
      "|    INSTRUMENT3|2014-12-11|    119.225|2014|   12| 11|      7|\n",
      "|    INSTRUMENT3|2014-12-10|   118.5975|2014|   12| 10|      8|\n",
      "|    INSTRUMENT3|2014-12-09|   118.3175|2014|   12|  9|      9|\n",
      "|    INSTRUMENT3|2014-12-08|   129.8475|2014|   12|  8|     10|\n",
      "+---------------+----------+-----------+----+-----+---+-------+\n",
      "\n"
     ]
    }
   ],
   "source": [
    "df_last_10.show(30)"
   ]
  },
  {
   "cell_type": "markdown",
   "metadata": {},
   "source": [
    "Finally we group by the INSTRUMENT_NAME column and sum the VALUE column"
   ]
  },
  {
   "cell_type": "code",
   "execution_count": 34,
   "metadata": {},
   "outputs": [
    {
     "name": "stdout",
     "output_type": "stream",
     "text": [
      "+---------------+-----------------+\n",
      "|INSTRUMENT_NAME|SUM_VALUE_LAST_10|\n",
      "+---------------+-----------------+\n",
      "|    INSTRUMENT1|        33.887496|\n",
      "|    INSTRUMENT2|92.23519645500001|\n",
      "|    INSTRUMENT3|        1195.7525|\n",
      "+---------------+-----------------+\n",
      "\n"
     ]
    }
   ],
   "source": [
    "# Group by 'INSTRUMENT_NAME' and calculate the sum of 'VALUE'\n",
    "sum_values = df_last_10.groupBy(\"INSTRUMENT_NAME\").agg(sum(\"VALUE\").alias(\"SUM_VALUE_LAST_10\"))\n",
    "\n",
    "# Show the result\n",
    "sum_values.show()"
   ]
  }
 ],
 "metadata": {
  "kernelspec": {
   "display_name": "Python 3",
   "language": "python",
   "name": "python3"
  },
  "language_info": {
   "codemirror_mode": {
    "name": "ipython",
    "version": 3
   },
   "file_extension": ".py",
   "mimetype": "text/x-python",
   "name": "python",
   "nbconvert_exporter": "python",
   "pygments_lexer": "ipython3",
   "version": "3.12.1"
  }
 },
 "nbformat": 4,
 "nbformat_minor": 2
}
